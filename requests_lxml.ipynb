{
  "nbformat": 4,
  "nbformat_minor": 0,
  "metadata": {
    "colab": {
      "name": "requests_lxml.ipynb",
      "provenance": [],
      "collapsed_sections": [],
      "authorship_tag": "ABX9TyMz6FeM49MtnqF01lmBkRli",
      "include_colab_link": true
    },
    "kernelspec": {
      "name": "python3",
      "display_name": "Python 3"
    },
    "language_info": {
      "name": "python"
    }
  },
  "cells": [
    {
      "cell_type": "markdown",
      "metadata": {
        "id": "view-in-github",
        "colab_type": "text"
      },
      "source": [
        "<a href=\"https://colab.research.google.com/github/zhangxs131/Spider/blob/main/requests_lxml.ipynb\" target=\"_parent\"><img src=\"https://colab.research.google.com/assets/colab-badge.svg\" alt=\"Open In Colab\"/></a>"
      ]
    },
    {
      "cell_type": "markdown",
      "source": [
        "#requests+lxml 爬取voanews\n",
        "\n",
        "*       搜索词为querys数组\n",
        "*       time可设置month，day，year，表示过去一天，一个月，一年的新闻\n",
        "*       pp为每页显示几个\n",
        "*       pages 为最多爬取多少页\n",
        "*       start_time 为具体新闻开始时间设置\n",
        "\n",
        "这里使用线程池加快爬取，我这里写的多线程有些问题，待修改\n"
      ],
      "metadata": {
        "id": "hEKZB05rKK4t"
      }
    },
    {
      "cell_type": "code",
      "source": [
        "import requests\n",
        "import lxml.etree as etree\n",
        "import datetime\n",
        "import json\n",
        "import os\n",
        "from concurrent.futures import ThreadPoolExecutor\n",
        "import threading\n",
        "from threading import Lock\n",
        "\n",
        "pool = ThreadPoolExecutor(max_workers=10)\n",
        "\n",
        "\n",
        "\n",
        "querys=['Ukraine','Russian']\n",
        "time='month'\n",
        "pp='10'\n",
        "pages=30\n",
        "start_time='2022-02-16 00:00:00'\n",
        "\n",
        "\n",
        "ori_url='https://www.voanews.com/s?k={}&tab=all&pi={}&r={}&pp={}'\n",
        "\n",
        "result={}\n",
        "sum=0\n",
        "\n",
        "def thread_action(li):\n",
        "  sample={}\n",
        "  try:\n",
        "    sample['title']=li.xpath('.//h4[@class=\"media-block__title media-block__title--size-3\"]/text()')[0].strip('\\n')\n",
        "    link=j.xpath('.//div[@class=\"media-block__content media-block__content--h media-block__content--h-xs\"]/a/@href')\n",
        "    #获取文章页面\n",
        "    page_url='https://www.voanews.com'+link[0]\n",
        "    page_res=requests.get(page_url)\n",
        "    t=etree.HTML(page_res.text)\n",
        "    sample['text']=t.xpath('//div[@class=\"wsw\"]/p/text()')\n",
        "\n",
        "    if len(sample['text'])==0:\n",
        "      return {}\n",
        "    print('title: ',sample['title'])\n",
        "    this_time=t.xpath('//span[@class=\"date\"]/time/@datetime')\n",
        "    sample['time']=('-').join(this_time[0].split('-')[:-1]).replace('T',' ')\n",
        "    # sample['time']= datetime.datetime.strptime(('-').join(this_time[0].split('-')[:-1]),'%Y-%m-%dT%H:%M:%S')\n",
        "\n",
        "    return sample\n",
        "  except:\n",
        "    return {}\n",
        "\n",
        "for query in querys:\n",
        "  print('\\n\\n____________________________under searching keywork {}_________________________________'.format(query))\n",
        "\n",
        "  data=[]\n",
        "  for i in range(pages):\n",
        "    url='https://www.voanews.com/s?k={}&tab=all&pi={}&r={}&pp={}'.format(query,i+1,time,pp)\n",
        "    res=requests.get(url)\n",
        "\n",
        "    #防止超出序列\n",
        "    if url!=res.url:\n",
        "      break\n",
        "    lis = etree.HTML(res.text).xpath('//div[@class=\"media-block-wrap\"]/div/ul/li')\n",
        "\n",
        "    for j in lis:\n",
        "      #多线程\n",
        "      future= pool.submit(thread_action, j)\n",
        "\n",
        "      if future.result()=={}:\n",
        "        continue\n",
        "      sum+=1\n",
        "      if sum%50==0:\n",
        "        print('___________________________Sum: {} News Time: {} ______________________'.format(sum,future.result()['time']))\n",
        "\n",
        "      data.append(future.result())\n",
        "\n",
        "    if future.result()!={} and future.result()['time']<start_time:\n",
        "      break\n",
        "\n",
        "\n",
        "  result[query]=data\n",
        "  data=[]\n",
        "\n",
        "pool.shutdown()\n",
        "\n",
        "#save data\n",
        "with open('voanews.json'.format(query),'w') as f:\n",
        "  f.write(json.dumps(result))\n",
        "\n",
        "    \n"
      ],
      "metadata": {
        "id": "eoYdNJ97zFoT"
      },
      "execution_count": null,
      "outputs": []
    }
  ]
}